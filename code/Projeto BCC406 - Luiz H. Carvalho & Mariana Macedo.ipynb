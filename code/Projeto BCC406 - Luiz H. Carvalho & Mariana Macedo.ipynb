{
  "nbformat": 4,
  "nbformat_minor": 0,
  "metadata": {
    "colab": {
      "provenance": [],
      "gpuType": "T4"
    },
    "kernelspec": {
      "name": "python3",
      "display_name": "Python 3"
    },
    "language_info": {
      "name": "python"
    },
    "accelerator": "GPU"
  },
  "cells": [
    {
      "cell_type": "code",
      "execution_count": null,
      "metadata": {
        "colab": {
          "base_uri": "https://localhost:8080/"
        },
        "collapsed": true,
        "id": "KRyBVkobCgcY",
        "outputId": "4ae2164c-6b7b-46eb-d445-8f232366ce5c"
      },
      "outputs": [
        {
          "output_type": "stream",
          "name": "stdout",
          "text": [
            "Requirement already satisfied: transformers in /usr/local/lib/python3.11/dist-packages (4.50.3)\n",
            "Requirement already satisfied: scikit-learn in /usr/local/lib/python3.11/dist-packages (1.6.1)\n",
            "Requirement already satisfied: filelock in /usr/local/lib/python3.11/dist-packages (from transformers) (3.18.0)\n",
            "Requirement already satisfied: huggingface-hub<1.0,>=0.26.0 in /usr/local/lib/python3.11/dist-packages (from transformers) (0.30.1)\n",
            "Requirement already satisfied: numpy>=1.17 in /usr/local/lib/python3.11/dist-packages (from transformers) (2.0.2)\n",
            "Requirement already satisfied: packaging>=20.0 in /usr/local/lib/python3.11/dist-packages (from transformers) (24.2)\n",
            "Requirement already satisfied: pyyaml>=5.1 in /usr/local/lib/python3.11/dist-packages (from transformers) (6.0.2)\n",
            "Requirement already satisfied: regex!=2019.12.17 in /usr/local/lib/python3.11/dist-packages (from transformers) (2024.11.6)\n",
            "Requirement already satisfied: requests in /usr/local/lib/python3.11/dist-packages (from transformers) (2.32.3)\n",
            "Requirement already satisfied: tokenizers<0.22,>=0.21 in /usr/local/lib/python3.11/dist-packages (from transformers) (0.21.1)\n",
            "Requirement already satisfied: safetensors>=0.4.3 in /usr/local/lib/python3.11/dist-packages (from transformers) (0.5.3)\n",
            "Requirement already satisfied: tqdm>=4.27 in /usr/local/lib/python3.11/dist-packages (from transformers) (4.67.1)\n",
            "Requirement already satisfied: scipy>=1.6.0 in /usr/local/lib/python3.11/dist-packages (from scikit-learn) (1.14.1)\n",
            "Requirement already satisfied: joblib>=1.2.0 in /usr/local/lib/python3.11/dist-packages (from scikit-learn) (1.4.2)\n",
            "Requirement already satisfied: threadpoolctl>=3.1.0 in /usr/local/lib/python3.11/dist-packages (from scikit-learn) (3.6.0)\n",
            "Requirement already satisfied: fsspec>=2023.5.0 in /usr/local/lib/python3.11/dist-packages (from huggingface-hub<1.0,>=0.26.0->transformers) (2025.3.2)\n",
            "Requirement already satisfied: typing-extensions>=3.7.4.3 in /usr/local/lib/python3.11/dist-packages (from huggingface-hub<1.0,>=0.26.0->transformers) (4.13.0)\n",
            "Requirement already satisfied: charset-normalizer<4,>=2 in /usr/local/lib/python3.11/dist-packages (from requests->transformers) (3.4.1)\n",
            "Requirement already satisfied: idna<4,>=2.5 in /usr/local/lib/python3.11/dist-packages (from requests->transformers) (3.10)\n",
            "Requirement already satisfied: urllib3<3,>=1.21.1 in /usr/local/lib/python3.11/dist-packages (from requests->transformers) (2.3.0)\n",
            "Requirement already satisfied: certifi>=2017.4.17 in /usr/local/lib/python3.11/dist-packages (from requests->transformers) (2025.1.31)\n"
          ]
        }
      ],
      "source": [
        "!pip install transformers scikit-learn"
      ]
    },
    {
      "cell_type": "code",
      "source": [
        "import pandas as pd\n",
        "\n",
        "# Try reading with 'latin1' encoding\n",
        "df = pd.read_csv('/content/dados_rotulados.csv', sep=';', on_bad_lines='warn', encoding='latin1')\n",
        "# If 'latin1' doesn't work, try 'ISO-8859-1', 'cp1252', or other common encodings\n",
        "\n",
        "# Ver as primeiras linhas para confirmar\n",
        "print(df.head())"
      ],
      "metadata": {
        "colab": {
          "base_uri": "https://localhost:8080/"
        },
        "id": "4KVnwdvjirKG",
        "outputId": "1c6c414c-665d-4b09-e720-6e234d8693af"
      },
      "execution_count": null,
      "outputs": [
        {
          "output_type": "stream",
          "name": "stdout",
          "text": [
            "         id                                               text  label\n",
            "0  1,91E+18                vai. Omer teu traveco e a janja meu      1\n",
            "1  1,91E+18  \" amiga \" basicamente foi um traveco ou seja o...      1\n",
            "2  1,91E+18  \"a mulher travesti\" como pode uma pessoa trans...      0\n",
            "3  1,91E+18  , o que o referido vereador esta mostrando com...      1\n",
            "4  1,91E+18  A segunda parte quando elu fala que travesti e...      0\n"
          ]
        }
      ]
    },
    {
      "cell_type": "code",
      "source": [
        "from transformers import BertTokenizer\n",
        "\n",
        "# Carregar o tokenizer\n",
        "tokenizer = BertTokenizer.from_pretrained('neuralmind/bert-base-portuguese-cased')\n",
        "\n",
        "# Função para tokenizar os textos\n",
        "def tokenize_data(texts, max_length=128):\n",
        "    return tokenizer(\n",
        "        texts.tolist(),\n",
        "        max_length=max_length,\n",
        "        padding=True,\n",
        "        truncation=True,\n",
        "        return_tensors='pt'\n",
        "    )\n",
        "\n",
        "# Tokenizar os textos da segunda coluna\n",
        "texts = df.iloc[:, 1]\n",
        "encoded_data = tokenize_data(texts)"
      ],
      "metadata": {
        "collapsed": true,
        "id": "m-bQhTNwE2WE"
      },
      "execution_count": null,
      "outputs": []
    },
    {
      "cell_type": "code",
      "source": [
        "import torch\n",
        "from sklearn.model_selection import train_test_split\n",
        "\n",
        "# Extrair rótulos da terceira coluna\n",
        "labels = torch.tensor(df.iloc[:, 2].values)\n",
        "\n",
        "# Dividir os dados (80% treino, 20% validação)\n",
        "train_inputs, val_inputs, train_labels, val_labels = train_test_split(\n",
        "    encoded_data['input_ids'],\n",
        "    labels,\n",
        "    test_size=0.2,\n",
        "    random_state=42\n",
        ")\n",
        "\n",
        "train_masks, val_masks, _, _ = train_test_split(\n",
        "    encoded_data['attention_mask'],\n",
        "    labels,\n",
        "    test_size=0.2,\n",
        "    random_state=42\n",
        ")\n",
        "print(f\"Total de exemplos: {len(encoded_data['input_ids'])}\")\n",
        "print(f\"Número de exemplos no conjunto de treinamento: {len(train_inputs)}\")\n",
        "print(f\"Número de exemplos no conjunto de teste: {len(val_inputs)}\")\n",
        "print(f\"Proporção de treinamento: {len(train_inputs) / len(encoded_data['input_ids']) * 100:.2f}%\")\n",
        "print(f\"Proporção de teste: {len(val_inputs) / len(encoded_data['input_ids']) * 100:.2f}%\")"
      ],
      "metadata": {
        "colab": {
          "base_uri": "https://localhost:8080/"
        },
        "id": "Mbo-xBdHFJwc",
        "outputId": "2ce935b7-03e9-4252-b4d9-d03163d75ff3"
      },
      "execution_count": null,
      "outputs": [
        {
          "output_type": "stream",
          "name": "stdout",
          "text": [
            "Total de exemplos: 144\n",
            "Número de exemplos no conjunto de treinamento: 115\n",
            "Número de exemplos no conjunto de teste: 29\n",
            "Proporção de treinamento: 79.86%\n",
            "Proporção de teste: 20.14%\n"
          ]
        }
      ]
    },
    {
      "cell_type": "code",
      "source": [
        "from torch.utils.data import TensorDataset, DataLoader\n",
        "\n",
        "# Criar datasets\n",
        "train_dataset = TensorDataset(train_inputs, train_masks, train_labels)\n",
        "val_dataset = TensorDataset(val_inputs, val_masks, val_labels)\n",
        "\n",
        "# Criar DataLoaders\n",
        "batch_size = 16  # Ajuste conforme a memória da GPU\n",
        "train_dataloader = DataLoader(train_dataset, batch_size=batch_size, shuffle=True)\n",
        "val_dataloader = DataLoader(val_dataset, batch_size=batch_size)"
      ],
      "metadata": {
        "id": "C3J7bIybFRLk"
      },
      "execution_count": null,
      "outputs": []
    },
    {
      "cell_type": "code",
      "source": [
        "from transformers import BertForSequenceClassification\n",
        "\n",
        "# Carregar o modelo\n",
        "model = BertForSequenceClassification.from_pretrained(\n",
        "    'neuralmind/bert-base-portuguese-cased',\n",
        "    num_labels=2  # 2 classes: 0 e 1\n",
        ")\n",
        "\n",
        "# Mover para a GPU\n",
        "device = torch.device('cuda' if torch.cuda.is_available() else 'cpu')\n",
        "model.to(device)"
      ],
      "metadata": {
        "colab": {
          "base_uri": "https://localhost:8080/"
        },
        "collapsed": true,
        "id": "4VgiGbgyFWV4",
        "outputId": "10832cf2-46ed-4ea9-dcb9-c280b01ca175"
      },
      "execution_count": null,
      "outputs": [
        {
          "output_type": "stream",
          "name": "stderr",
          "text": [
            "Some weights of BertForSequenceClassification were not initialized from the model checkpoint at neuralmind/bert-base-portuguese-cased and are newly initialized: ['classifier.bias', 'classifier.weight']\n",
            "You should probably TRAIN this model on a down-stream task to be able to use it for predictions and inference.\n"
          ]
        },
        {
          "output_type": "execute_result",
          "data": {
            "text/plain": [
              "BertForSequenceClassification(\n",
              "  (bert): BertModel(\n",
              "    (embeddings): BertEmbeddings(\n",
              "      (word_embeddings): Embedding(29794, 768, padding_idx=0)\n",
              "      (position_embeddings): Embedding(512, 768)\n",
              "      (token_type_embeddings): Embedding(2, 768)\n",
              "      (LayerNorm): LayerNorm((768,), eps=1e-12, elementwise_affine=True)\n",
              "      (dropout): Dropout(p=0.1, inplace=False)\n",
              "    )\n",
              "    (encoder): BertEncoder(\n",
              "      (layer): ModuleList(\n",
              "        (0-11): 12 x BertLayer(\n",
              "          (attention): BertAttention(\n",
              "            (self): BertSdpaSelfAttention(\n",
              "              (query): Linear(in_features=768, out_features=768, bias=True)\n",
              "              (key): Linear(in_features=768, out_features=768, bias=True)\n",
              "              (value): Linear(in_features=768, out_features=768, bias=True)\n",
              "              (dropout): Dropout(p=0.1, inplace=False)\n",
              "            )\n",
              "            (output): BertSelfOutput(\n",
              "              (dense): Linear(in_features=768, out_features=768, bias=True)\n",
              "              (LayerNorm): LayerNorm((768,), eps=1e-12, elementwise_affine=True)\n",
              "              (dropout): Dropout(p=0.1, inplace=False)\n",
              "            )\n",
              "          )\n",
              "          (intermediate): BertIntermediate(\n",
              "            (dense): Linear(in_features=768, out_features=3072, bias=True)\n",
              "            (intermediate_act_fn): GELUActivation()\n",
              "          )\n",
              "          (output): BertOutput(\n",
              "            (dense): Linear(in_features=3072, out_features=768, bias=True)\n",
              "            (LayerNorm): LayerNorm((768,), eps=1e-12, elementwise_affine=True)\n",
              "            (dropout): Dropout(p=0.1, inplace=False)\n",
              "          )\n",
              "        )\n",
              "      )\n",
              "    )\n",
              "    (pooler): BertPooler(\n",
              "      (dense): Linear(in_features=768, out_features=768, bias=True)\n",
              "      (activation): Tanh()\n",
              "    )\n",
              "  )\n",
              "  (dropout): Dropout(p=0.1, inplace=False)\n",
              "  (classifier): Linear(in_features=768, out_features=2, bias=True)\n",
              ")"
            ]
          },
          "metadata": {},
          "execution_count": 81
        }
      ]
    },
    {
      "cell_type": "code",
      "source": [
        "import torch.optim as optim\n",
        "\n",
        "optimizer = optim.Adam(model.parameters(), lr=2e-5)\n",
        "\n",
        "# Loop de treinamento\n",
        "epochs = 20\n",
        "for epoch in range(epochs):\n",
        "    model.train()\n",
        "    total_loss = 0\n",
        "    for batch in train_dataloader:\n",
        "        input_ids, attention_mask, labels = [b.to(device) for b in batch]\n",
        "\n",
        "        optimizer.zero_grad()\n",
        "\n",
        "        outputs = model(input_ids, attention_mask=attention_mask, labels=labels)\n",
        "        loss = outputs.loss\n",
        "        total_loss += loss.item()\n",
        "\n",
        "        loss.backward()\n",
        "        optimizer.step()\n",
        "\n",
        "    print(f'Época {epoch + 1}, Perda média: {total_loss / len(train_dataloader)}')"
      ],
      "metadata": {
        "colab": {
          "base_uri": "https://localhost:8080/"
        },
        "collapsed": true,
        "id": "VezQ83IqFfzc",
        "outputId": "859ecdd3-3079-42b0-a465-e6dc3af8618c"
      },
      "execution_count": null,
      "outputs": [
        {
          "output_type": "stream",
          "name": "stdout",
          "text": [
            "Época 1, Perda média: 0.7071445807814598\n",
            "Época 2, Perda média: 0.6353238075971603\n",
            "Época 3, Perda média: 0.5246834754943848\n",
            "Época 4, Perda média: 0.3669992461800575\n",
            "Época 5, Perda média: 0.20910758897662163\n",
            "Época 6, Perda média: 0.10565437050536275\n",
            "Época 7, Perda média: 0.05805277777835727\n",
            "Época 8, Perda média: 0.04010451631620526\n",
            "Época 9, Perda média: 0.02429832168854773\n",
            "Época 10, Perda média: 0.024494492099620402\n",
            "Época 11, Perda média: 0.0168396431254223\n",
            "Época 12, Perda média: 0.015282199252396822\n",
            "Época 13, Perda média: 0.01178149797488004\n",
            "Época 14, Perda média: 0.010603722417727113\n",
            "Época 15, Perda média: 0.00871846079826355\n",
            "Época 16, Perda média: 0.007753412064630538\n",
            "Época 17, Perda média: 0.0071799312136135995\n",
            "Época 18, Perda média: 0.006528369325678796\n",
            "Época 19, Perda média: 0.0062988538993522525\n",
            "Época 20, Perda média: 0.005549911875277758\n"
          ]
        }
      ]
    },
    {
      "cell_type": "code",
      "source": [
        "from sklearn.metrics import accuracy_score, precision_recall_fscore_support\n",
        "\n",
        "model.eval()\n",
        "predictions = []\n",
        "true_labels = []\n",
        "\n",
        "with torch.no_grad():\n",
        "    for batch in val_dataloader:\n",
        "        input_ids, attention_mask, labels = [b.to(device) for b in batch]\n",
        "        outputs = model(input_ids, attention_mask=attention_mask)\n",
        "        preds = torch.argmax(outputs.logits, dim=1)\n",
        "        predictions.extend(preds.cpu().tolist())\n",
        "        true_labels.extend(labels.cpu().tolist())\n",
        "\n",
        "# Calcular métricas\n",
        "accuracy = accuracy_score(true_labels, predictions)\n",
        "precision, recall, f1, _ = precision_recall_fscore_support(true_labels, predictions, average='binary')\n",
        "\n",
        "print(f'Acurácia: {accuracy:.4f}')\n",
        "print(f'Precisão: {precision:.4f}')\n",
        "print(f'Recall: {recall:.4f}')\n",
        "print(f'F1-score: {f1:.4f}')"
      ],
      "metadata": {
        "colab": {
          "base_uri": "https://localhost:8080/"
        },
        "id": "ZO6qAiTJGKuE",
        "outputId": "7d7dad55-45c9-47df-fe01-8425803e2fdf"
      },
      "execution_count": null,
      "outputs": [
        {
          "output_type": "stream",
          "name": "stdout",
          "text": [
            "Acurácia: 0.7241\n",
            "Precisão: 0.7619\n",
            "Recall: 0.8421\n",
            "F1-score: 0.8000\n"
          ]
        }
      ]
    },
    {
      "cell_type": "code",
      "source": [
        "#ver o balanceamento dos dados\n",
        "\n",
        "\n",
        "# Contar os rótulos\n",
        "print(df.iloc[:, 2].value_counts())"
      ],
      "metadata": {
        "colab": {
          "base_uri": "https://localhost:8080/"
        },
        "collapsed": true,
        "id": "PIf5WJKHIkZk",
        "outputId": "a0573250-c055-4acf-e813-dcec8bc72cf9"
      },
      "execution_count": null,
      "outputs": [
        {
          "output_type": "stream",
          "name": "stdout",
          "text": [
            "label\n",
            "1    82\n",
            "0    62\n",
            "Name: count, dtype: int64\n"
          ]
        }
      ]
    },
    {
      "cell_type": "code",
      "source": [
        "def predict(text):\n",
        "    model.eval()\n",
        "    inputs = tokenizer(text, return_tensors='pt', padding=True, truncation=True, max_length=128)\n",
        "    input_ids = inputs['input_ids'].to(device)\n",
        "    attention_mask = inputs['attention_mask'].to(device)\n",
        "\n",
        "    with torch.no_grad():\n",
        "        outputs = model(input_ids, attention_mask=attention_mask)\n",
        "        pred = torch.argmax(outputs.logits, dim=1).item()\n",
        "    return 'Transfobia' if pred == 1 else 'Não transfobia'\n",
        "\n",
        "# Exemplo\n",
        "texto = \"respeito as pessoas trans\"\n",
        "print(predict(texto))"
      ],
      "metadata": {
        "colab": {
          "base_uri": "https://localhost:8080/"
        },
        "id": "j0-dmjXEGbeI",
        "outputId": "fa38917d-cf2f-4719-af81-605c1e3c764f"
      },
      "execution_count": null,
      "outputs": [
        {
          "output_type": "stream",
          "name": "stdout",
          "text": [
            "Transfobia\n"
          ]
        }
      ]
    },
    {
      "cell_type": "code",
      "source": [
        "model.eval()\n",
        "predictions = []\n",
        "true_labels = []\n",
        "\n",
        "with torch.no_grad():\n",
        "    for batch in val_dataloader:\n",
        "        input_ids, attention_mask, labels = [b.to(device) for b in batch]\n",
        "        outputs = model(input_ids, attention_mask=attention_mask)\n",
        "        preds = torch.argmax(outputs.logits, dim=1)\n",
        "        predictions.extend(preds.cpu().tolist())\n",
        "        true_labels.extend(labels.cpu().tolist())\n",
        "\n",
        "# Verificar a distribuição das previsões\n",
        "from collections import Counter\n",
        "print(\"Distribuição das previsões:\", Counter(predictions))\n",
        "print(\"Distribuição real:\", Counter(true_labels))"
      ],
      "metadata": {
        "colab": {
          "base_uri": "https://localhost:8080/"
        },
        "id": "G-38VKhtJPGh",
        "outputId": "1dc366ce-f990-41b8-967b-984b24b98d25"
      },
      "execution_count": null,
      "outputs": [
        {
          "output_type": "stream",
          "name": "stdout",
          "text": [
            "Distribuição das previsões: Counter({1: 21, 0: 8})\n",
            "Distribuição real: Counter({1: 19, 0: 10})\n"
          ]
        }
      ]
    }
  ]
}